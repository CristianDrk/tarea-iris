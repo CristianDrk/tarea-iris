{
 "cells": [
  {
   "cell_type": "code",
   "execution_count": 2,
   "metadata": {},
   "outputs": [
    {
     "name": "stdout",
     "output_type": "stream",
     "text": [
      "{\n",
      "  \"probabilities\": [\n",
      "    0.0,\n",
      "    1.0,\n",
      "    0.0,\n",
      "    1.0\n",
      "  ]\n",
      "}\n"
     ]
    },
    {
     "name": "stderr",
     "output_type": "stream",
     "text": [
      "  % Total    % Received % Xferd  Average Speed   Time    Time     Time  Current\n",
      "                                 Dload  Upload   Total   Spent    Left  Speed\n",
      "\n",
      "  0     0    0     0    0     0      0      0 --:--:-- --:--:-- --:--:--     0\n",
      "100   123  100    64  100    59   6868   6331 --:--:-- --:--:-- --:--:-- 13666\n"
     ]
    }
   ],
   "source": [
    "!curl --request POST \"http://127.0.0.1:8001/predict\" \\\n",
    "--header \"Content-Type: application/json\" \\\n",
    "--data-raw \"{\\\"datos\\\": [[3.5, 1.5], [5.0, 2.5], [1.4, 0.2], [5.1, 1.8]]}\""
   ]
  },
  {
   "cell_type": "code",
   "execution_count": null,
   "metadata": {},
   "outputs": [],
   "source": [
    "!curl --request POST \"http://127.0.0.1:8001/predict\" \\\n",
    "--header \"Content-Type: application/json\" \\\n",
    "--data-raw \"{\\\"datos\\\": [[1.5, 5.5], [3.0, 2.4]]}\""
   ]
  }
 ],
 "metadata": {
  "kernelspec": {
   "display_name": ".venv",
   "language": "python",
   "name": "python3"
  },
  "language_info": {
   "codemirror_mode": {
    "name": "ipython",
    "version": 3
   },
   "file_extension": ".py",
   "mimetype": "text/x-python",
   "name": "python",
   "nbconvert_exporter": "python",
   "pygments_lexer": "ipython3",
   "version": "3.9.6"
  }
 },
 "nbformat": 4,
 "nbformat_minor": 2
}
